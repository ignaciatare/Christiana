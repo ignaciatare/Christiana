{
 "cells": [
  {
   "cell_type": "code",
   "execution_count": null,
   "metadata": {},
   "outputs": [],
   "source": [
    "from collections import Counter\n",
    "\n",
    "freq_text = 'Palabras con - a priori - ningún significado o que aportan muy poca' + \\\n",
    "            'información. Suelen ser palabras muy comunes como, por ejemplo,' + \\\n",
    "            ' preposiciones. En NLP se suele trabajar con vocabularios enormes' + \\\n",
    "            '(en Don Quijote de la Mancha aparecen en torno a 23.000 palabras distintas)' + \\\n",
    "            'por lo que interesa filtras aquellas que menos información aporten.' + \\\n",
    "            'Debate: ¿qué significa que aporten información?'\n",
    "\n",
    "word_freqs = Counter(freq_text.lower().split())\n",
    "word_freqs.most_common(5)"
   ]
  },
  {
   "cell_type": "code",
   "execution_count": null,
   "metadata": {},
   "outputs": [],
   "source": [
    "from collections import Counter\n",
    "\n",
    "freq_text = open(\"vagina.txt\")\n",
    "\n",
    "word_freqs = Counter(freq_text.lower().split())\n",
    "word_freqs.most_common(5)"
   ]
  },
  {
   "cell_type": "code",
   "execution_count": null,
   "metadata": {},
   "outputs": [],
   "source": [
    "from collections import Counter\n",
    "\n",
    "freq_text = (\"vagina.txt\")\n",
    "\n",
    "word_freqs = Counter(freq_text.lower().split())\n",
    "word_freqs.most_common(5)"
   ]
  },
  {
   "cell_type": "code",
   "execution_count": null,
   "metadata": {},
   "outputs": [],
   "source": []
  }
 ],
 "metadata": {
  "kernelspec": {
   "display_name": "Python 3",
   "language": "python",
   "name": "python3"
  },
  "language_info": {
   "codemirror_mode": {
    "name": "ipython",
    "version": 3
   },
   "file_extension": ".py",
   "mimetype": "text/x-python",
   "name": "python",
   "nbconvert_exporter": "python",
   "pygments_lexer": "ipython3",
   "version": "3.8.5"
  }
 },
 "nbformat": 4,
 "nbformat_minor": 4
}
